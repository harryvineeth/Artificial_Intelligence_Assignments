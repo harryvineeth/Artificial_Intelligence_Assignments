{
 "cells": [
  {
   "cell_type": "code",
   "execution_count": 10,
   "metadata": {},
   "outputs": [],
   "source": [
    "import numpy as np \n",
    "import pandas as pd \n",
    "import matplotlib.pyplot as plt\n",
    "from sklearn.model_selection import train_test_split\n",
    "\n",
    "from keras.datasets import mnist\n",
    "from keras.models import Sequential\n",
    "from keras.callbacks import EarlyStopping\n",
    "from keras.optimizers import Adam ,RMSprop\n",
    "from keras.layers import Conv2D, MaxPooling2D\n",
    "from keras.utils.np_utils import to_categorical\n",
    "from keras.preprocessing.image import ImageDataGenerator\n",
    "from keras.layers import Dense, Dropout, Lambda, Flatten, Activation, Dropout\n",
    "\n",
    "%matplotlib inline"
   ]
  },
  {
   "cell_type": "code",
   "execution_count": 11,
   "metadata": {},
   "outputs": [],
   "source": [
    "(x_train, y_train), (x_test, y_test) = mnist.load_data()"
   ]
  },
  {
   "cell_type": "code",
   "execution_count": 12,
   "metadata": {},
   "outputs": [
    {
     "data": {
      "text/plain": [
       "(60000, 28, 28)"
      ]
     },
     "execution_count": 12,
     "metadata": {},
     "output_type": "execute_result"
    }
   ],
   "source": [
    "x_train.shape"
   ]
  },
  {
   "cell_type": "code",
   "execution_count": 13,
   "metadata": {},
   "outputs": [],
   "source": [
    "x_train = x_train.reshape(x_train.shape[0], 784).astype('float32')\n",
    "x_test = x_test.reshape(x_test.shape[0], 784).astype('float32')\n",
    "x_train /= 255\n",
    "x_test /= 255"
   ]
  },
  {
   "cell_type": "code",
   "execution_count": 14,
   "metadata": {},
   "outputs": [
    {
     "data": {
      "text/plain": [
       "(60000,)"
      ]
     },
     "execution_count": 14,
     "metadata": {},
     "output_type": "execute_result"
    }
   ],
   "source": [
    "number_of_classes = 10\n",
    "y_train.shape"
   ]
  },
  {
   "cell_type": "code",
   "execution_count": 15,
   "metadata": {},
   "outputs": [],
   "source": [
    "y_train = to_categorical(y_train,number_of_classes)\n",
    "y_test = to_categorical(y_test,number_of_classes)"
   ]
  },
  {
   "cell_type": "code",
   "execution_count": 16,
   "metadata": {},
   "outputs": [
    {
     "data": {
      "text/plain": [
       "(10000, 10)"
      ]
     },
     "execution_count": 16,
     "metadata": {},
     "output_type": "execute_result"
    }
   ],
   "source": [
    "y_test.shape"
   ]
  },
  {
   "cell_type": "code",
   "execution_count": 17,
   "metadata": {},
   "outputs": [],
   "source": [
    "#model\n",
    "model = Sequential()\n",
    "model.add(Dense(512, input_shape = (784,)))\n",
    "model.add(Activation('relu'))\n",
    "\n",
    "model.add(Dense(512))\n",
    "model.add(Activation('relu'))\n",
    "\n",
    "model.add(Dense(10))\n",
    "model.add(Activation('softmax'))\n",
    "\n",
    "model.compile(optimizer = 'adam', loss='categorical_crossentropy', metrics=['accuracy'])"
   ]
  },
  {
   "cell_type": "code",
   "execution_count": 18,
   "metadata": {
    "scrolled": true
   },
   "outputs": [
    {
     "name": "stdout",
     "output_type": "stream",
     "text": [
      "Train on 60000 samples, validate on 10000 samples\n",
      "Epoch 1/20\n",
      "60000/60000 [==============================] - 32s 526us/step - loss: 0.1845 - acc: 0.9447 - val_loss: 0.1018 - val_acc: 0.9672\n",
      "Epoch 2/20\n",
      "60000/60000 [==============================] - 31s 523us/step - loss: 0.0803 - acc: 0.9751 - val_loss: 0.0868 - val_acc: 0.9725\n",
      "Epoch 3/20\n",
      "60000/60000 [==============================] - 34s 570us/step - loss: 0.0562 - acc: 0.9819 - val_loss: 0.0759 - val_acc: 0.9797\n",
      "Epoch 4/20\n",
      "60000/60000 [==============================] - 35s 582us/step - loss: 0.0428 - acc: 0.9866 - val_loss: 0.0765 - val_acc: 0.9792\n",
      "Epoch 5/20\n",
      "60000/60000 [==============================] - 35s 581us/step - loss: 0.0343 - acc: 0.9891 - val_loss: 0.0777 - val_acc: 0.9791\n",
      "Epoch 6/20\n",
      "60000/60000 [==============================] - 37s 614us/step - loss: 0.0286 - acc: 0.9908 - val_loss: 0.0844 - val_acc: 0.9804\n",
      "Epoch 7/20\n",
      "60000/60000 [==============================] - 40s 664us/step - loss: 0.0267 - acc: 0.9917 - val_loss: 0.0849 - val_acc: 0.9814\n",
      "Epoch 8/20\n",
      "60000/60000 [==============================] - 40s 659us/step - loss: 0.0201 - acc: 0.9937 - val_loss: 0.1078 - val_acc: 0.9778\n",
      "Epoch 9/20\n",
      "60000/60000 [==============================] - 42s 695us/step - loss: 0.0209 - acc: 0.9938 - val_loss: 0.0912 - val_acc: 0.9800\n",
      "Epoch 10/20\n",
      "60000/60000 [==============================] - 40s 672us/step - loss: 0.0203 - acc: 0.9940 - val_loss: 0.1124 - val_acc: 0.9772\n",
      "Epoch 11/20\n",
      "60000/60000 [==============================] - 42s 694us/step - loss: 0.0164 - acc: 0.9952 - val_loss: 0.1150 - val_acc: 0.9775\n",
      "Epoch 12/20\n",
      "60000/60000 [==============================] - 42s 701us/step - loss: 0.0173 - acc: 0.9951 - val_loss: 0.1136 - val_acc: 0.9798\n",
      "Epoch 13/20\n",
      "60000/60000 [==============================] - 43s 719us/step - loss: 0.0156 - acc: 0.9956 - val_loss: 0.0968 - val_acc: 0.9805\n",
      "Epoch 14/20\n",
      "60000/60000 [==============================] - 42s 703us/step - loss: 0.0150 - acc: 0.9958 - val_loss: 0.1055 - val_acc: 0.9808\n",
      "Epoch 15/20\n",
      "60000/60000 [==============================] - 42s 697us/step - loss: 0.0172 - acc: 0.9950 - val_loss: 0.1400 - val_acc: 0.9765\n",
      "Epoch 16/20\n",
      "60000/60000 [==============================] - 43s 724us/step - loss: 0.0129 - acc: 0.9961 - val_loss: 0.1080 - val_acc: 0.9810\n",
      "Epoch 17/20\n",
      "60000/60000 [==============================] - 41s 690us/step - loss: 0.0131 - acc: 0.9965 - val_loss: 0.1271 - val_acc: 0.9780\n",
      "Epoch 18/20\n",
      "60000/60000 [==============================] - 43s 720us/step - loss: 0.0142 - acc: 0.9964 - val_loss: 0.1141 - val_acc: 0.9800\n",
      "Epoch 19/20\n",
      "60000/60000 [==============================] - 47s 775us/step - loss: 0.0157 - acc: 0.9961 - val_loss: 0.1417 - val_acc: 0.9790\n",
      "Epoch 20/20\n",
      "60000/60000 [==============================] - 44s 739us/step - loss: 0.0117 - acc: 0.9971 - val_loss: 0.1630 - val_acc: 0.9763\n"
     ]
    }
   ],
   "source": [
    "classifier = model.fit(x_train, y_train, batch_size = 32, epochs = 20, verbose = True, validation_data = (x_test, y_test))"
   ]
  },
  {
   "cell_type": "code",
   "execution_count": null,
   "metadata": {
    "collapsed": true
   },
   "outputs": [],
   "source": []
  }
 ],
 "metadata": {
  "kernelspec": {
   "display_name": "Python 2",
   "language": "python",
   "name": "python2"
  },
  "language_info": {
   "codemirror_mode": {
    "name": "ipython",
    "version": 2
   },
   "file_extension": ".py",
   "mimetype": "text/x-python",
   "name": "python",
   "nbconvert_exporter": "python",
   "pygments_lexer": "ipython2",
   "version": "2.7.12"
  }
 },
 "nbformat": 4,
 "nbformat_minor": 2
}
